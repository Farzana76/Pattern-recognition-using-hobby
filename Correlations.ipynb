{
 "cells": [
  {
   "cell_type": "code",
   "execution_count": 1,
   "metadata": {},
   "outputs": [
    {
     "data": {
      "text/html": [
       "<div>\n",
       "<style scoped>\n",
       "    .dataframe tbody tr th:only-of-type {\n",
       "        vertical-align: middle;\n",
       "    }\n",
       "\n",
       "    .dataframe tbody tr th {\n",
       "        vertical-align: top;\n",
       "    }\n",
       "\n",
       "    .dataframe thead th {\n",
       "        text-align: right;\n",
       "    }\n",
       "</style>\n",
       "<table border=\"1\" class=\"dataframe\">\n",
       "  <thead>\n",
       "    <tr style=\"text-align: right;\">\n",
       "      <th></th>\n",
       "      <th>Gender</th>\n",
       "      <th>CGPA</th>\n",
       "      <th>Reading_Hobby</th>\n",
       "    </tr>\n",
       "  </thead>\n",
       "  <tbody>\n",
       "    <tr>\n",
       "      <th>1</th>\n",
       "      <td>1</td>\n",
       "      <td>3.71</td>\n",
       "      <td>no</td>\n",
       "    </tr>\n",
       "    <tr>\n",
       "      <th>2</th>\n",
       "      <td>1</td>\n",
       "      <td>3.48</td>\n",
       "      <td>no</td>\n",
       "    </tr>\n",
       "    <tr>\n",
       "      <th>3</th>\n",
       "      <td>1</td>\n",
       "      <td>2.90</td>\n",
       "      <td>no</td>\n",
       "    </tr>\n",
       "    <tr>\n",
       "      <th>4</th>\n",
       "      <td>0</td>\n",
       "      <td>3.33</td>\n",
       "      <td>yes</td>\n",
       "    </tr>\n",
       "    <tr>\n",
       "      <th>5</th>\n",
       "      <td>1</td>\n",
       "      <td>3.72</td>\n",
       "      <td>no</td>\n",
       "    </tr>\n",
       "  </tbody>\n",
       "</table>\n",
       "</div>"
      ],
      "text/plain": [
       "   Gender  CGPA Reading_Hobby\n",
       "1       1  3.71            no\n",
       "2       1  3.48            no\n",
       "3       1  2.90            no\n",
       "4       0  3.33           yes\n",
       "5       1  3.72            no"
      ]
     },
     "execution_count": 1,
     "metadata": {},
     "output_type": "execute_result"
    }
   ],
   "source": [
    "import pandas as pd\n",
    "\n",
    "a = pd.read_excel (r'I:\\Pattern Lab\\Project\\reading_hobby.xlsx') #for an earlier version of Excel, you may need to use the file extension of 'xls'\n",
    "a.head()"
   ]
  },
  {
   "cell_type": "code",
   "execution_count": 2,
   "metadata": {},
   "outputs": [
    {
     "data": {
      "text/plain": [
       "array([<matplotlib.axes._subplots.AxesSubplot object at 0x0000022AAC913DA0>,\n",
       "       <matplotlib.axes._subplots.AxesSubplot object at 0x0000022AAC9FF0F0>],\n",
       "      dtype=object)"
      ]
     },
     "execution_count": 2,
     "metadata": {},
     "output_type": "execute_result"
    }
   ],
   "source": [
    "a.boxplot(by=[\"Reading_Hobby\"], column=['Gender','CGPA'], grid= True)"
   ]
  },
  {
   "cell_type": "code",
   "execution_count": 3,
   "metadata": {},
   "outputs": [
    {
     "data": {
      "text/plain": [
       "<matplotlib.axes._subplots.AxesSubplot at 0x22aaceccd30>"
      ]
     },
     "execution_count": 3,
     "metadata": {},
     "output_type": "execute_result"
    },
    {
     "data": {
      "image/png": "[encoded data removed]",
      "text/plain": [
       "<Figure size 432x288 with 1 Axes>"
      ]
     },
     "metadata": {},
     "output_type": "display_data"
    }
   ],
   "source": [
    "a.boxplot(by=[\"Reading_Hobby\"], column=['Gender'], grid= True)"
   ]
  },
  {
   "cell_type": "code",
   "execution_count": 4,
   "metadata": {},
   "outputs": [
    {
     "data": {
      "text/plain": [
       "<matplotlib.axes._subplots.AxesSubplot at 0x22aacf47e10>"
      ]
     },
     "execution_count": 4,
     "metadata": {},
     "output_type": "execute_result"
    },
    {
     "data": {
      "image/png": "[encoded data removed]",
      "text/plain": [
       "<Figure size 432x288 with 1 Axes>"
      ]
     },
     "metadata": {},
     "output_type": "display_data"
    }
   ],
   "source": [
    "a.boxplot(by=[\"Reading_Hobby\"], column=['CGPA'], grid= True)"
   ]
  },
  {
   "cell_type": "code",
   "execution_count": 5,
   "metadata": {},
   "outputs": [
    {
     "name": "stdout",
     "output_type": "stream",
     "text": [
      "     Gender   CGPA Reading_Hobby CGPA high or low\n",
      "1         1  3.710            no             High\n",
      "2         1  3.480            no             High\n",
      "3         1  2.900            no              Low\n",
      "4         0  3.330           yes             High\n",
      "5         1  3.720            no             High\n",
      "6         1  3.430           yes             High\n",
      "7         0  3.270            no             High\n",
      "8         0  3.000            no              Low\n",
      "9         0  3.420           yes             High\n",
      "10        0  3.640           yes             High\n",
      "11        1  3.360            no             High\n",
      "12        1  3.300            no             High\n",
      "13        1  2.750            no              Low\n",
      "14        1  3.400            no             High\n",
      "15        1  2.690            no              Low\n",
      "16        1  3.760            no             High\n",
      "17        1  2.965            no              Low\n",
      "18        1  3.230            no              Low\n",
      "19        0  3.000            no              Low\n",
      "20        1  3.620            no             High\n",
      "21        0  3.620           yes             High\n",
      "22        1  2.880            no              Low\n",
      "23        1  3.380            no             High\n",
      "24        1  3.250            no             High\n",
      "25        0  3.690            no             High\n",
      "26        1  2.750            no              Low\n",
      "27        1  2.987            no              Low\n",
      "28        1  2.500            no              Low\n",
      "29        0  3.530            no             High\n",
      "30        1  3.100            no              Low\n",
      "..      ...    ...           ...              ...\n",
      "71        1  3.150            no              Low\n",
      "72        1  3.430            no             High\n",
      "73        1  3.500            no             High\n",
      "74        1  3.210            no              Low\n",
      "75        1  3.640            no             High\n",
      "76        0  3.500            no             High\n",
      "77        1  3.400            no             High\n",
      "78        1  3.416            no             High\n",
      "79        1  3.680            no             High\n",
      "80        1  3.150           yes              Low\n",
      "81        1  3.010            no              Low\n",
      "82        0  3.240            no             High\n",
      "83        0  3.390           yes             High\n",
      "84        0  3.570            no             High\n",
      "85        1  3.000            no              Low\n",
      "86        1  2.470            no              Low\n",
      "87        1  3.300            no             High\n",
      "88        1  2.970            no              Low\n",
      "89        1  3.440            no             High\n",
      "90        0  3.400           yes             High\n",
      "91        1  2.800           yes              Low\n",
      "92        1  3.150            no              Low\n",
      "93        1  2.340            no              Low\n",
      "94        1  3.180            no              Low\n",
      "95        0  3.246           yes             High\n",
      "96        1  3.845            no             High\n",
      "97        0  2.500            no              Low\n",
      "99        1  2.400            no              Low\n",
      "100       0  3.430            no             High\n",
      "102       1  2.700            no              Low\n",
      "\n",
      "[97 rows x 4 columns]\n"
     ]
    }
   ],
   "source": [
    "a.loc[a.CGPA >= 3.24, 'CGPA high or low'] = 'High' \n",
    "a.loc[a.CGPA < 3.24, 'CGPA high or low'] = 'Low' \n",
    "\n",
    "print (a)"
   ]
  },
  {
   "cell_type": "code",
   "execution_count": 6,
   "metadata": {},
   "outputs": [
    {
     "name": "stdout",
     "output_type": "stream",
     "text": [
      "     Gender CGPA high or low Reading_Hobby\n",
      "1         1             High            no\n",
      "2         1             High            no\n",
      "3         1              Low            no\n",
      "4         0             High           yes\n",
      "5         1             High            no\n",
      "6         1             High           yes\n",
      "7         0             High            no\n",
      "8         0              Low            no\n",
      "9         0             High           yes\n",
      "10        0             High           yes\n",
      "11        1             High            no\n",
      "12        1             High            no\n",
      "13        1              Low            no\n",
      "14        1             High            no\n",
      "15        1              Low            no\n",
      "16        1             High            no\n",
      "17        1              Low            no\n",
      "18        1              Low            no\n",
      "19        0              Low            no\n",
      "20        1             High            no\n",
      "21        0             High           yes\n",
      "22        1              Low            no\n",
      "23        1             High            no\n",
      "24        1             High            no\n",
      "25        0             High            no\n",
      "26        1              Low            no\n",
      "27        1              Low            no\n",
      "28        1              Low            no\n",
      "29        0             High            no\n",
      "30        1              Low            no\n",
      "..      ...              ...           ...\n",
      "71        1              Low            no\n",
      "72        1             High            no\n",
      "73        1             High            no\n",
      "74        1              Low            no\n",
      "75        1             High            no\n",
      "76        0             High            no\n",
      "77        1             High            no\n",
      "78        1             High            no\n",
      "79        1             High            no\n",
      "80        1              Low           yes\n",
      "81        1              Low            no\n",
      "82        0             High            no\n",
      "83        0             High           yes\n",
      "84        0             High            no\n",
      "85        1              Low            no\n",
      "86        1              Low            no\n",
      "87        1             High            no\n",
      "88        1              Low            no\n",
      "89        1             High            no\n",
      "90        0             High           yes\n",
      "91        1              Low           yes\n",
      "92        1              Low            no\n",
      "93        1              Low            no\n",
      "94        1              Low            no\n",
      "95        0             High           yes\n",
      "96        1             High            no\n",
      "97        0              Low            no\n",
      "99        1              Low            no\n",
      "100       0             High            no\n",
      "102       1              Low            no\n",
      "\n",
      "[97 rows x 3 columns]\n"
     ]
    }
   ],
   "source": [
    "b= a[['Gender','CGPA high or low','Reading_Hobby']];\n",
    "print(b);"
   ]
  },
  {
   "cell_type": "code",
   "execution_count": 8,
   "metadata": {},
   "outputs": [
    {
     "data": {
      "text/html": [
       "<div>\n",
       "<style scoped>\n",
       "    .dataframe tbody tr th:only-of-type {\n",
       "        vertical-align: middle;\n",
       "    }\n",
       "\n",
       "    .dataframe tbody tr th {\n",
       "        vertical-align: top;\n",
       "    }\n",
       "\n",
       "    .dataframe thead th {\n",
       "        text-align: right;\n",
       "    }\n",
       "</style>\n",
       "<table border=\"1\" class=\"dataframe\">\n",
       "  <thead>\n",
       "    <tr style=\"text-align: right;\">\n",
       "      <th></th>\n",
       "      <th></th>\n",
       "      <th></th>\n",
       "    </tr>\n",
       "    <tr>\n",
       "      <th>Reading_Hobby</th>\n",
       "      <th>Gender</th>\n",
       "      <th>CGPA high or low</th>\n",
       "    </tr>\n",
       "  </thead>\n",
       "  <tbody>\n",
       "    <tr>\n",
       "      <th rowspan=\"4\" valign=\"top\">no</th>\n",
       "      <th rowspan=\"2\" valign=\"top\">0</th>\n",
       "      <th>High</th>\n",
       "    </tr>\n",
       "    <tr>\n",
       "      <th>Low</th>\n",
       "    </tr>\n",
       "    <tr>\n",
       "      <th rowspan=\"2\" valign=\"top\">1</th>\n",
       "      <th>High</th>\n",
       "    </tr>\n",
       "    <tr>\n",
       "      <th>Low</th>\n",
       "    </tr>\n",
       "    <tr>\n",
       "      <th rowspan=\"3\" valign=\"top\">yes</th>\n",
       "      <th>0</th>\n",
       "      <th>High</th>\n",
       "    </tr>\n",
       "    <tr>\n",
       "      <th rowspan=\"2\" valign=\"top\">1</th>\n",
       "      <th>High</th>\n",
       "    </tr>\n",
       "    <tr>\n",
       "      <th>Low</th>\n",
       "    </tr>\n",
       "  </tbody>\n",
       "</table>\n",
       "</div>"
      ],
      "text/plain": [
       "Empty DataFrame\n",
       "Columns: []\n",
       "Index: [(no, 0, High), (no, 0, Low), (no, 1, High), (no, 1, Low), (yes, 0, High), (yes, 1, High), (yes, 1, Low)]"
      ]
     },
     "execution_count": 8,
     "metadata": {},
     "output_type": "execute_result"
    }
   ],
   "source": [
    "b.groupby(['Reading_Hobby','Gender','CGPA high or low']).count()"
   ]
  },
  {
   "cell_type": "code",
   "execution_count": 9,
   "metadata": {},
   "outputs": [
    {
     "name": "stderr",
     "output_type": "stream",
     "text": [
      "C:\\Users\\User\\Anaconda3\\lib\\site-packages\\pandas\\core\\ops.py:1164: FutureWarning: elementwise comparison failed; returning scalar instead, but in the future will perform elementwise comparison\n",
      "  result = method(y)\n"
     ]
    },
    {
     "ename": "TypeError",
     "evalue": "invalid type comparison",
     "output_type": "error",
     "traceback": [
      "\u001b[1;31m---------------------------------------------------------------------------\u001b[0m",
      "\u001b[1;31mTypeError\u001b[0m                                 Traceback (most recent call last)",
      "\u001b[1;32m<ipython-input-9-5aa373422720>\u001b[0m in \u001b[0;36m<module>\u001b[1;34m()\u001b[0m\n\u001b[1;32m----> 1\u001b[1;33m \u001b[0mb\u001b[0m\u001b[1;33m.\u001b[0m\u001b[0mloc\u001b[0m\u001b[1;33m[\u001b[0m\u001b[0ma\u001b[0m\u001b[1;33m.\u001b[0m\u001b[0mGender\u001b[0m \u001b[1;33m==\u001b[0m \u001b[1;34m'0'\u001b[0m\u001b[1;33m,\u001b[0m \u001b[1;34m'Gender1'\u001b[0m\u001b[1;33m]\u001b[0m \u001b[1;33m=\u001b[0m \u001b[1;34m'Female'\u001b[0m\u001b[1;33m\u001b[0m\u001b[0m\n\u001b[0m\u001b[0;32m      2\u001b[0m \u001b[0mb\u001b[0m\u001b[1;33m.\u001b[0m\u001b[0mloc\u001b[0m\u001b[1;33m[\u001b[0m\u001b[0ma\u001b[0m\u001b[1;33m.\u001b[0m\u001b[0mGender\u001b[0m \u001b[1;33m!=\u001b[0m \u001b[1;34m'0'\u001b[0m\u001b[1;33m,\u001b[0m \u001b[1;34m'Gender1'\u001b[0m\u001b[1;33m]\u001b[0m \u001b[1;33m=\u001b[0m \u001b[1;34m'Male'\u001b[0m\u001b[1;33m\u001b[0m\u001b[0m\n\u001b[0;32m      3\u001b[0m \u001b[1;33m\u001b[0m\u001b[0m\n\u001b[0;32m      4\u001b[0m \u001b[0mprint\u001b[0m \u001b[1;33m(\u001b[0m\u001b[0mb\u001b[0m\u001b[1;33m)\u001b[0m\u001b[1;33m\u001b[0m\u001b[0m\n",
      "\u001b[1;32m~\\Anaconda3\\lib\\site-packages\\pandas\\core\\ops.py\u001b[0m in \u001b[0;36mwrapper\u001b[1;34m(self, other, axis)\u001b[0m\n\u001b[0;32m   1251\u001b[0m \u001b[1;33m\u001b[0m\u001b[0m\n\u001b[0;32m   1252\u001b[0m             \u001b[1;32mwith\u001b[0m \u001b[0mnp\u001b[0m\u001b[1;33m.\u001b[0m\u001b[0merrstate\u001b[0m\u001b[1;33m(\u001b[0m\u001b[0mall\u001b[0m\u001b[1;33m=\u001b[0m\u001b[1;34m'ignore'\u001b[0m\u001b[1;33m)\u001b[0m\u001b[1;33m:\u001b[0m\u001b[1;33m\u001b[0m\u001b[0m\n\u001b[1;32m-> 1253\u001b[1;33m                 \u001b[0mres\u001b[0m \u001b[1;33m=\u001b[0m \u001b[0mna_op\u001b[0m\u001b[1;33m(\u001b[0m\u001b[0mvalues\u001b[0m\u001b[1;33m,\u001b[0m \u001b[0mother\u001b[0m\u001b[1;33m)\u001b[0m\u001b[1;33m\u001b[0m\u001b[0m\n\u001b[0m\u001b[0;32m   1254\u001b[0m             \u001b[1;32mif\u001b[0m \u001b[0mis_scalar\u001b[0m\u001b[1;33m(\u001b[0m\u001b[0mres\u001b[0m\u001b[1;33m)\u001b[0m\u001b[1;33m:\u001b[0m\u001b[1;33m\u001b[0m\u001b[0m\n\u001b[0;32m   1255\u001b[0m                 raise TypeError('Could not compare {typ} type with Series'\n",
      "\u001b[1;32m~\\Anaconda3\\lib\\site-packages\\pandas\\core\\ops.py\u001b[0m in \u001b[0;36mna_op\u001b[1;34m(x, y)\u001b[0m\n\u001b[0;32m   1164\u001b[0m                     \u001b[0mresult\u001b[0m \u001b[1;33m=\u001b[0m \u001b[0mmethod\u001b[0m\u001b[1;33m(\u001b[0m\u001b[0my\u001b[0m\u001b[1;33m)\u001b[0m\u001b[1;33m\u001b[0m\u001b[0m\n\u001b[0;32m   1165\u001b[0m                 \u001b[1;32mif\u001b[0m \u001b[0mresult\u001b[0m \u001b[1;32mis\u001b[0m \u001b[0mNotImplemented\u001b[0m\u001b[1;33m:\u001b[0m\u001b[1;33m\u001b[0m\u001b[0m\n\u001b[1;32m-> 1166\u001b[1;33m                     \u001b[1;32mraise\u001b[0m \u001b[0mTypeError\u001b[0m\u001b[1;33m(\u001b[0m\u001b[1;34m\"invalid type comparison\"\u001b[0m\u001b[1;33m)\u001b[0m\u001b[1;33m\u001b[0m\u001b[0m\n\u001b[0m\u001b[0;32m   1167\u001b[0m             \u001b[1;32melse\u001b[0m\u001b[1;33m:\u001b[0m\u001b[1;33m\u001b[0m\u001b[0m\n\u001b[0;32m   1168\u001b[0m                 \u001b[0mresult\u001b[0m \u001b[1;33m=\u001b[0m \u001b[0mop\u001b[0m\u001b[1;33m(\u001b[0m\u001b[0mx\u001b[0m\u001b[1;33m,\u001b[0m \u001b[0my\u001b[0m\u001b[1;33m)\u001b[0m\u001b[1;33m\u001b[0m\u001b[0m\n",
      "\u001b[1;31mTypeError\u001b[0m: invalid type comparison"
     ]
    }
   ],
   "source": [
    "b.loc[a.Gender == '0', 'Gender1'] = 'Female'  \n",
    "b.loc[a.Gender != '0', 'Gender1'] = 'Male'  \n",
    " \n",
    "print (b)"
   ]
  },
  {
   "cell_type": "code",
   "execution_count": 10,
   "metadata": {},
   "outputs": [
    {
     "name": "stdout",
     "output_type": "stream",
     "text": [
      "     Gender CGPA high or low Reading_Hobby Gender1\n",
      "1         1             High            no    Male\n",
      "2         1             High            no    Male\n",
      "3         1              Low            no    Male\n",
      "4         0             High           yes  Female\n",
      "5         1             High            no    Male\n",
      "6         1             High           yes    Male\n",
      "7         0             High            no  Female\n",
      "8         0              Low            no  Female\n",
      "9         0             High           yes  Female\n",
      "10        0             High           yes  Female\n",
      "11        1             High            no    Male\n",
      "12        1             High            no    Male\n",
      "13        1              Low            no    Male\n",
      "14        1             High            no    Male\n",
      "15        1              Low            no    Male\n",
      "16        1             High            no    Male\n",
      "17        1              Low            no    Male\n",
      "18        1              Low            no    Male\n",
      "19        0              Low            no  Female\n",
      "20        1             High            no    Male\n",
      "21        0             High           yes  Female\n",
      "22        1              Low            no    Male\n",
      "23        1             High            no    Male\n",
      "24        1             High            no    Male\n",
      "25        0             High            no  Female\n",
      "26        1              Low            no    Male\n",
      "27        1              Low            no    Male\n",
      "28        1              Low            no    Male\n",
      "29        0             High            no  Female\n",
      "30        1              Low            no    Male\n",
      "..      ...              ...           ...     ...\n",
      "71        1              Low            no    Male\n",
      "72        1             High            no    Male\n",
      "73        1             High            no    Male\n",
      "74        1              Low            no    Male\n",
      "75        1             High            no    Male\n",
      "76        0             High            no  Female\n",
      "77        1             High            no    Male\n",
      "78        1             High            no    Male\n",
      "79        1             High            no    Male\n",
      "80        1              Low           yes    Male\n",
      "81        1              Low            no    Male\n",
      "82        0             High            no  Female\n",
      "83        0             High           yes  Female\n",
      "84        0             High            no  Female\n",
      "85        1              Low            no    Male\n",
      "86        1              Low            no    Male\n",
      "87        1             High            no    Male\n",
      "88        1              Low            no    Male\n",
      "89        1             High            no    Male\n",
      "90        0             High           yes  Female\n",
      "91        1              Low           yes    Male\n",
      "92        1              Low            no    Male\n",
      "93        1              Low            no    Male\n",
      "94        1              Low            no    Male\n",
      "95        0             High           yes  Female\n",
      "96        1             High            no    Male\n",
      "97        0              Low            no  Female\n",
      "99        1              Low            no    Male\n",
      "100       0             High            no  Female\n",
      "102       1              Low            no    Male\n",
      "\n",
      "[97 rows x 4 columns]\n"
     ]
    }
   ],
   "source": [
    "b.loc[a.Gender == 0, 'Gender1'] = 'Female'  \n",
    "b.loc[a.Gender != 0, 'Gender1'] = 'Male'  \n",
    " \n",
    "print (b)"
   ]
  },
  {
   "cell_type": "code",
   "execution_count": 11,
   "metadata": {},
   "outputs": [
    {
     "name": "stdout",
     "output_type": "stream",
     "text": [
      "    Gender1 CGPA high or low Reading_Hobby\n",
      "1      Male             High            no\n",
      "2      Male             High            no\n",
      "3      Male              Low            no\n",
      "4    Female             High           yes\n",
      "5      Male             High            no\n",
      "6      Male             High           yes\n",
      "7    Female             High            no\n",
      "8    Female              Low            no\n",
      "9    Female             High           yes\n",
      "10   Female             High           yes\n",
      "11     Male             High            no\n",
      "12     Male             High            no\n",
      "13     Male              Low            no\n",
      "14     Male             High            no\n",
      "15     Male              Low            no\n",
      "16     Male             High            no\n",
      "17     Male              Low            no\n",
      "18     Male              Low            no\n",
      "19   Female              Low            no\n",
      "20     Male             High            no\n",
      "21   Female             High           yes\n",
      "22     Male              Low            no\n",
      "23     Male             High            no\n",
      "24     Male             High            no\n",
      "25   Female             High            no\n",
      "26     Male              Low            no\n",
      "27     Male              Low            no\n",
      "28     Male              Low            no\n",
      "29   Female             High            no\n",
      "30     Male              Low            no\n",
      "..      ...              ...           ...\n",
      "71     Male              Low            no\n",
      "72     Male             High            no\n",
      "73     Male             High            no\n",
      "74     Male              Low            no\n",
      "75     Male             High            no\n",
      "76   Female             High            no\n",
      "77     Male             High            no\n",
      "78     Male             High            no\n",
      "79     Male             High            no\n",
      "80     Male              Low           yes\n",
      "81     Male              Low            no\n",
      "82   Female             High            no\n",
      "83   Female             High           yes\n",
      "84   Female             High            no\n",
      "85     Male              Low            no\n",
      "86     Male              Low            no\n",
      "87     Male             High            no\n",
      "88     Male              Low            no\n",
      "89     Male             High            no\n",
      "90   Female             High           yes\n",
      "91     Male              Low           yes\n",
      "92     Male              Low            no\n",
      "93     Male              Low            no\n",
      "94     Male              Low            no\n",
      "95   Female             High           yes\n",
      "96     Male             High            no\n",
      "97   Female              Low            no\n",
      "99     Male              Low            no\n",
      "100  Female             High            no\n",
      "102    Male              Low            no\n",
      "\n",
      "[97 rows x 3 columns]\n"
     ]
    }
   ],
   "source": [
    "b= b[['Gender1','CGPA high or low','Reading_Hobby']];\n",
    "print(b);"
   ]
  },
  {
   "cell_type": "code",
   "execution_count": 12,
   "metadata": {},
   "outputs": [
    {
     "ename": "KeyError",
     "evalue": "'Gender1'",
     "output_type": "error",
     "traceback": [
      "\u001b[1;31m---------------------------------------------------------------------------\u001b[0m",
      "\u001b[1;31mKeyError\u001b[0m                                  Traceback (most recent call last)",
      "\u001b[1;32m<ipython-input-12-0c558df477fa>\u001b[0m in \u001b[0;36m<module>\u001b[1;34m()\u001b[0m\n\u001b[1;32m----> 1\u001b[1;33m \u001b[0ma\u001b[0m\u001b[1;33m.\u001b[0m\u001b[0mgroupby\u001b[0m\u001b[1;33m(\u001b[0m\u001b[1;33m[\u001b[0m\u001b[1;34m'Gender1'\u001b[0m\u001b[1;33m,\u001b[0m\u001b[1;34m'Reading_Hobby'\u001b[0m\u001b[1;33m]\u001b[0m\u001b[1;33m)\u001b[0m\u001b[1;33m.\u001b[0m\u001b[0mmean\u001b[0m\u001b[1;33m(\u001b[0m\u001b[1;33m)\u001b[0m\u001b[1;33m\u001b[0m\u001b[0m\n\u001b[0m",
      "\u001b[1;32m~\\Anaconda3\\lib\\site-packages\\pandas\\core\\generic.py\u001b[0m in \u001b[0;36mgroupby\u001b[1;34m(self, by, axis, level, as_index, sort, group_keys, squeeze, observed, **kwargs)\u001b[0m\n\u001b[0;32m   6657\u001b[0m         return groupby(self, by=by, axis=axis, level=level, as_index=as_index,\n\u001b[0;32m   6658\u001b[0m                        \u001b[0msort\u001b[0m\u001b[1;33m=\u001b[0m\u001b[0msort\u001b[0m\u001b[1;33m,\u001b[0m \u001b[0mgroup_keys\u001b[0m\u001b[1;33m=\u001b[0m\u001b[0mgroup_keys\u001b[0m\u001b[1;33m,\u001b[0m \u001b[0msqueeze\u001b[0m\u001b[1;33m=\u001b[0m\u001b[0msqueeze\u001b[0m\u001b[1;33m,\u001b[0m\u001b[1;33m\u001b[0m\u001b[0m\n\u001b[1;32m-> 6659\u001b[1;33m                        observed=observed, **kwargs)\n\u001b[0m\u001b[0;32m   6660\u001b[0m \u001b[1;33m\u001b[0m\u001b[0m\n\u001b[0;32m   6661\u001b[0m     def asfreq(self, freq, method=None, how=None, normalize=False,\n",
      "\u001b[1;32m~\\Anaconda3\\lib\\site-packages\\pandas\\core\\groupby\\groupby.py\u001b[0m in \u001b[0;36mgroupby\u001b[1;34m(obj, by, **kwds)\u001b[0m\n\u001b[0;32m   2150\u001b[0m         \u001b[1;32mraise\u001b[0m \u001b[0mTypeError\u001b[0m\u001b[1;33m(\u001b[0m\u001b[1;34m'invalid type: %s'\u001b[0m \u001b[1;33m%\u001b[0m \u001b[0mtype\u001b[0m\u001b[1;33m(\u001b[0m\u001b[0mobj\u001b[0m\u001b[1;33m)\u001b[0m\u001b[1;33m)\u001b[0m\u001b[1;33m\u001b[0m\u001b[0m\n\u001b[0;32m   2151\u001b[0m \u001b[1;33m\u001b[0m\u001b[0m\n\u001b[1;32m-> 2152\u001b[1;33m     \u001b[1;32mreturn\u001b[0m \u001b[0mklass\u001b[0m\u001b[1;33m(\u001b[0m\u001b[0mobj\u001b[0m\u001b[1;33m,\u001b[0m \u001b[0mby\u001b[0m\u001b[1;33m,\u001b[0m \u001b[1;33m**\u001b[0m\u001b[0mkwds\u001b[0m\u001b[1;33m)\u001b[0m\u001b[1;33m\u001b[0m\u001b[0m\n\u001b[0m\u001b[0;32m   2153\u001b[0m \u001b[1;33m\u001b[0m\u001b[0m\n\u001b[0;32m   2154\u001b[0m \u001b[1;33m\u001b[0m\u001b[0m\n",
      "\u001b[1;32m~\\Anaconda3\\lib\\site-packages\\pandas\\core\\groupby\\groupby.py\u001b[0m in \u001b[0;36m__init__\u001b[1;34m(self, obj, keys, axis, level, grouper, exclusions, selection, as_index, sort, group_keys, squeeze, observed, **kwargs)\u001b[0m\n\u001b[0;32m    597\u001b[0m                                                     \u001b[0msort\u001b[0m\u001b[1;33m=\u001b[0m\u001b[0msort\u001b[0m\u001b[1;33m,\u001b[0m\u001b[1;33m\u001b[0m\u001b[0m\n\u001b[0;32m    598\u001b[0m                                                     \u001b[0mobserved\u001b[0m\u001b[1;33m=\u001b[0m\u001b[0mobserved\u001b[0m\u001b[1;33m,\u001b[0m\u001b[1;33m\u001b[0m\u001b[0m\n\u001b[1;32m--> 599\u001b[1;33m                                                     mutated=self.mutated)\n\u001b[0m\u001b[0;32m    600\u001b[0m \u001b[1;33m\u001b[0m\u001b[0m\n\u001b[0;32m    601\u001b[0m         \u001b[0mself\u001b[0m\u001b[1;33m.\u001b[0m\u001b[0mobj\u001b[0m \u001b[1;33m=\u001b[0m \u001b[0mobj\u001b[0m\u001b[1;33m\u001b[0m\u001b[0m\n",
      "\u001b[1;32m~\\Anaconda3\\lib\\site-packages\\pandas\\core\\groupby\\groupby.py\u001b[0m in \u001b[0;36m_get_grouper\u001b[1;34m(obj, key, axis, level, sort, observed, mutated, validate)\u001b[0m\n\u001b[0;32m   3289\u001b[0m                 \u001b[0min_axis\u001b[0m\u001b[1;33m,\u001b[0m \u001b[0mname\u001b[0m\u001b[1;33m,\u001b[0m \u001b[0mlevel\u001b[0m\u001b[1;33m,\u001b[0m \u001b[0mgpr\u001b[0m \u001b[1;33m=\u001b[0m \u001b[1;32mFalse\u001b[0m\u001b[1;33m,\u001b[0m \u001b[1;32mNone\u001b[0m\u001b[1;33m,\u001b[0m \u001b[0mgpr\u001b[0m\u001b[1;33m,\u001b[0m \u001b[1;32mNone\u001b[0m\u001b[1;33m\u001b[0m\u001b[0m\n\u001b[0;32m   3290\u001b[0m             \u001b[1;32melse\u001b[0m\u001b[1;33m:\u001b[0m\u001b[1;33m\u001b[0m\u001b[0m\n\u001b[1;32m-> 3291\u001b[1;33m                 \u001b[1;32mraise\u001b[0m \u001b[0mKeyError\u001b[0m\u001b[1;33m(\u001b[0m\u001b[0mgpr\u001b[0m\u001b[1;33m)\u001b[0m\u001b[1;33m\u001b[0m\u001b[0m\n\u001b[0m\u001b[0;32m   3292\u001b[0m         \u001b[1;32melif\u001b[0m \u001b[0misinstance\u001b[0m\u001b[1;33m(\u001b[0m\u001b[0mgpr\u001b[0m\u001b[1;33m,\u001b[0m \u001b[0mGrouper\u001b[0m\u001b[1;33m)\u001b[0m \u001b[1;32mand\u001b[0m \u001b[0mgpr\u001b[0m\u001b[1;33m.\u001b[0m\u001b[0mkey\u001b[0m \u001b[1;32mis\u001b[0m \u001b[1;32mnot\u001b[0m \u001b[1;32mNone\u001b[0m\u001b[1;33m:\u001b[0m\u001b[1;33m\u001b[0m\u001b[0m\n\u001b[0;32m   3293\u001b[0m             \u001b[1;31m# Add key to exclusions\u001b[0m\u001b[1;33m\u001b[0m\u001b[1;33m\u001b[0m\u001b[0m\n",
      "\u001b[1;31mKeyError\u001b[0m: 'Gender1'"
     ]
    }
   ],
   "source": [
    "a.groupby(['Gender1','Reading_Hobby']).mean()"
   ]
  },
  {
   "cell_type": "code",
   "execution_count": 13,
   "metadata": {},
   "outputs": [
    {
     "ename": "DataError",
     "evalue": "No numeric types to aggregate",
     "output_type": "error",
     "traceback": [
      "\u001b[1;31m---------------------------------------------------------------------------\u001b[0m",
      "\u001b[1;31mDataError\u001b[0m                                 Traceback (most recent call last)",
      "\u001b[1;32m<ipython-input-13-8c546e8873f9>\u001b[0m in \u001b[0;36m<module>\u001b[1;34m()\u001b[0m\n\u001b[1;32m----> 1\u001b[1;33m \u001b[0mb\u001b[0m\u001b[1;33m.\u001b[0m\u001b[0mgroupby\u001b[0m\u001b[1;33m(\u001b[0m\u001b[1;33m[\u001b[0m\u001b[1;34m'Gender1'\u001b[0m\u001b[1;33m,\u001b[0m\u001b[1;34m'Reading_Hobby'\u001b[0m\u001b[1;33m]\u001b[0m\u001b[1;33m)\u001b[0m\u001b[1;33m.\u001b[0m\u001b[0mmean\u001b[0m\u001b[1;33m(\u001b[0m\u001b[1;33m)\u001b[0m\u001b[1;33m\u001b[0m\u001b[0m\n\u001b[0m",
      "\u001b[1;32m~\\Anaconda3\\lib\\site-packages\\pandas\\core\\groupby\\groupby.py\u001b[0m in \u001b[0;36mmean\u001b[1;34m(self, *args, **kwargs)\u001b[0m\n\u001b[0;32m   1304\u001b[0m         \u001b[0mnv\u001b[0m\u001b[1;33m.\u001b[0m\u001b[0mvalidate_groupby_func\u001b[0m\u001b[1;33m(\u001b[0m\u001b[1;34m'mean'\u001b[0m\u001b[1;33m,\u001b[0m \u001b[0margs\u001b[0m\u001b[1;33m,\u001b[0m \u001b[0mkwargs\u001b[0m\u001b[1;33m,\u001b[0m \u001b[1;33m[\u001b[0m\u001b[1;34m'numeric_only'\u001b[0m\u001b[1;33m]\u001b[0m\u001b[1;33m)\u001b[0m\u001b[1;33m\u001b[0m\u001b[0m\n\u001b[0;32m   1305\u001b[0m         \u001b[1;32mtry\u001b[0m\u001b[1;33m:\u001b[0m\u001b[1;33m\u001b[0m\u001b[0m\n\u001b[1;32m-> 1306\u001b[1;33m             \u001b[1;32mreturn\u001b[0m \u001b[0mself\u001b[0m\u001b[1;33m.\u001b[0m\u001b[0m_cython_agg_general\u001b[0m\u001b[1;33m(\u001b[0m\u001b[1;34m'mean'\u001b[0m\u001b[1;33m,\u001b[0m \u001b[1;33m**\u001b[0m\u001b[0mkwargs\u001b[0m\u001b[1;33m)\u001b[0m\u001b[1;33m\u001b[0m\u001b[0m\n\u001b[0m\u001b[0;32m   1307\u001b[0m         \u001b[1;32mexcept\u001b[0m \u001b[0mGroupByError\u001b[0m\u001b[1;33m:\u001b[0m\u001b[1;33m\u001b[0m\u001b[0m\n\u001b[0;32m   1308\u001b[0m             \u001b[1;32mraise\u001b[0m\u001b[1;33m\u001b[0m\u001b[0m\n",
      "\u001b[1;32m~\\Anaconda3\\lib\\site-packages\\pandas\\core\\groupby\\groupby.py\u001b[0m in \u001b[0;36m_cython_agg_general\u001b[1;34m(self, how, alt, numeric_only, min_count)\u001b[0m\n\u001b[0;32m   3972\u001b[0m                             min_count=-1):\n\u001b[0;32m   3973\u001b[0m         new_items, new_blocks = self._cython_agg_blocks(\n\u001b[1;32m-> 3974\u001b[1;33m             how, alt=alt, numeric_only=numeric_only, min_count=min_count)\n\u001b[0m\u001b[0;32m   3975\u001b[0m         \u001b[1;32mreturn\u001b[0m \u001b[0mself\u001b[0m\u001b[1;33m.\u001b[0m\u001b[0m_wrap_agged_blocks\u001b[0m\u001b[1;33m(\u001b[0m\u001b[0mnew_items\u001b[0m\u001b[1;33m,\u001b[0m \u001b[0mnew_blocks\u001b[0m\u001b[1;33m)\u001b[0m\u001b[1;33m\u001b[0m\u001b[0m\n\u001b[0;32m   3976\u001b[0m \u001b[1;33m\u001b[0m\u001b[0m\n",
      "\u001b[1;32m~\\Anaconda3\\lib\\site-packages\\pandas\\core\\groupby\\groupby.py\u001b[0m in \u001b[0;36m_cython_agg_blocks\u001b[1;34m(self, how, alt, numeric_only, min_count)\u001b[0m\n\u001b[0;32m   4044\u001b[0m \u001b[1;33m\u001b[0m\u001b[0m\n\u001b[0;32m   4045\u001b[0m         \u001b[1;32mif\u001b[0m \u001b[0mlen\u001b[0m\u001b[1;33m(\u001b[0m\u001b[0mnew_blocks\u001b[0m\u001b[1;33m)\u001b[0m \u001b[1;33m==\u001b[0m \u001b[1;36m0\u001b[0m\u001b[1;33m:\u001b[0m\u001b[1;33m\u001b[0m\u001b[0m\n\u001b[1;32m-> 4046\u001b[1;33m             \u001b[1;32mraise\u001b[0m \u001b[0mDataError\u001b[0m\u001b[1;33m(\u001b[0m\u001b[1;34m'No numeric types to aggregate'\u001b[0m\u001b[1;33m)\u001b[0m\u001b[1;33m\u001b[0m\u001b[0m\n\u001b[0m\u001b[0;32m   4047\u001b[0m \u001b[1;33m\u001b[0m\u001b[0m\n\u001b[0;32m   4048\u001b[0m         \u001b[1;31m# reset the locs in the blocks to correspond to our\u001b[0m\u001b[1;33m\u001b[0m\u001b[1;33m\u001b[0m\u001b[0m\n",
      "\u001b[1;31mDataError\u001b[0m: No numeric types to aggregate"
     ]
    }
   ],
   "source": [
    "b.groupby(['Gender1','Reading_Hobby']).mean()"
   ]
  },
  {
   "cell_type": "code",
   "execution_count": 14,
   "metadata": {},
   "outputs": [
    {
     "name": "stdout",
     "output_type": "stream",
     "text": [
      "     Gender   CGPA Reading_Hobby CGPA high or low\n",
      "1         1  3.710            no             High\n",
      "2         1  3.480            no             High\n",
      "3         1  2.900            no              Low\n",
      "4         0  3.330           yes             High\n",
      "5         1  3.720            no             High\n",
      "6         1  3.430           yes             High\n",
      "7         0  3.270            no             High\n",
      "8         0  3.000            no              Low\n",
      "9         0  3.420           yes             High\n",
      "10        0  3.640           yes             High\n",
      "11        1  3.360            no             High\n",
      "12        1  3.300            no             High\n",
      "13        1  2.750            no              Low\n",
      "14        1  3.400            no             High\n",
      "15        1  2.690            no              Low\n",
      "16        1  3.760            no             High\n",
      "17        1  2.965            no              Low\n",
      "18        1  3.230            no              Low\n",
      "19        0  3.000            no              Low\n",
      "20        1  3.620            no             High\n",
      "21        0  3.620           yes             High\n",
      "22        1  2.880            no              Low\n",
      "23        1  3.380            no             High\n",
      "24        1  3.250            no             High\n",
      "25        0  3.690            no             High\n",
      "26        1  2.750            no              Low\n",
      "27        1  2.987            no              Low\n",
      "28        1  2.500            no              Low\n",
      "29        0  3.530            no             High\n",
      "30        1  3.100            no              Low\n",
      "..      ...    ...           ...              ...\n",
      "71        1  3.150            no              Low\n",
      "72        1  3.430            no             High\n",
      "73        1  3.500            no             High\n",
      "74        1  3.210            no              Low\n",
      "75        1  3.640            no             High\n",
      "76        0  3.500            no             High\n",
      "77        1  3.400            no             High\n",
      "78        1  3.416            no             High\n",
      "79        1  3.680            no             High\n",
      "80        1  3.150           yes              Low\n",
      "81        1  3.010            no              Low\n",
      "82        0  3.240            no             High\n",
      "83        0  3.390           yes             High\n",
      "84        0  3.570            no             High\n",
      "85        1  3.000            no              Low\n",
      "86        1  2.470            no              Low\n",
      "87        1  3.300            no             High\n",
      "88        1  2.970            no              Low\n",
      "89        1  3.440            no             High\n",
      "90        0  3.400           yes             High\n",
      "91        1  2.800           yes              Low\n",
      "92        1  3.150            no              Low\n",
      "93        1  2.340            no              Low\n",
      "94        1  3.180            no              Low\n",
      "95        0  3.246           yes             High\n",
      "96        1  3.845            no             High\n",
      "97        0  2.500            no              Low\n",
      "99        1  2.400            no              Low\n",
      "100       0  3.430            no             High\n",
      "102       1  2.700            no              Low\n",
      "\n",
      "[97 rows x 4 columns]\n"
     ]
    }
   ],
   "source": [
    "print(a)"
   ]
  },
  {
   "cell_type": "code",
   "execution_count": 15,
   "metadata": {},
   "outputs": [
    {
     "name": "stdout",
     "output_type": "stream",
     "text": [
      "     Gender   CGPA Reading_Hobby CGPA high or low Gender1\n",
      "1         1  3.710            no             High    Male\n",
      "2         1  3.480            no             High    Male\n",
      "3         1  2.900            no              Low    Male\n",
      "4         0  3.330           yes             High  Female\n",
      "5         1  3.720            no             High    Male\n",
      "6         1  3.430           yes             High    Male\n",
      "7         0  3.270            no             High  Female\n",
      "8         0  3.000            no              Low  Female\n",
      "9         0  3.420           yes             High  Female\n",
      "10        0  3.640           yes             High  Female\n",
      "11        1  3.360            no             High    Male\n",
      "12        1  3.300            no             High    Male\n",
      "13        1  2.750            no              Low    Male\n",
      "14        1  3.400            no             High    Male\n",
      "15        1  2.690            no              Low    Male\n",
      "16        1  3.760            no             High    Male\n",
      "17        1  2.965            no              Low    Male\n",
      "18        1  3.230            no              Low    Male\n",
      "19        0  3.000            no              Low  Female\n",
      "20        1  3.620            no             High    Male\n",
      "21        0  3.620           yes             High  Female\n",
      "22        1  2.880            no              Low    Male\n",
      "23        1  3.380            no             High    Male\n",
      "24        1  3.250            no             High    Male\n",
      "25        0  3.690            no             High  Female\n",
      "26        1  2.750            no              Low    Male\n",
      "27        1  2.987            no              Low    Male\n",
      "28        1  2.500            no              Low    Male\n",
      "29        0  3.530            no             High  Female\n",
      "30        1  3.100            no              Low    Male\n",
      "..      ...    ...           ...              ...     ...\n",
      "71        1  3.150            no              Low    Male\n",
      "72        1  3.430            no             High    Male\n",
      "73        1  3.500            no             High    Male\n",
      "74        1  3.210            no              Low    Male\n",
      "75        1  3.640            no             High    Male\n",
      "76        0  3.500            no             High  Female\n",
      "77        1  3.400            no             High    Male\n",
      "78        1  3.416            no             High    Male\n",
      "79        1  3.680            no             High    Male\n",
      "80        1  3.150           yes              Low    Male\n",
      "81        1  3.010            no              Low    Male\n",
      "82        0  3.240            no             High  Female\n",
      "83        0  3.390           yes             High  Female\n",
      "84        0  3.570            no             High  Female\n",
      "85        1  3.000            no              Low    Male\n",
      "86        1  2.470            no              Low    Male\n",
      "87        1  3.300            no             High    Male\n",
      "88        1  2.970            no              Low    Male\n",
      "89        1  3.440            no             High    Male\n",
      "90        0  3.400           yes             High  Female\n",
      "91        1  2.800           yes              Low    Male\n",
      "92        1  3.150            no              Low    Male\n",
      "93        1  2.340            no              Low    Male\n",
      "94        1  3.180            no              Low    Male\n",
      "95        0  3.246           yes             High  Female\n",
      "96        1  3.845            no             High    Male\n",
      "97        0  2.500            no              Low  Female\n",
      "99        1  2.400            no              Low    Male\n",
      "100       0  3.430            no             High  Female\n",
      "102       1  2.700            no              Low    Male\n",
      "\n",
      "[97 rows x 5 columns]\n"
     ]
    }
   ],
   "source": [
    "a.loc[a.Gender == 0, 'Gender1'] = 'Female'  \n",
    "a.loc[a.Gender != 0, 'Gender1'] = 'Male'  \n",
    " \n",
    "print (a)"
   ]
  },
  {
   "cell_type": "code",
   "execution_count": 16,
   "metadata": {},
   "outputs": [
    {
     "name": "stdout",
     "output_type": "stream",
     "text": [
      "    Gender1   CGPA Reading_Hobby\n",
      "1      Male  3.710            no\n",
      "2      Male  3.480            no\n",
      "3      Male  2.900            no\n",
      "4    Female  3.330           yes\n",
      "5      Male  3.720            no\n",
      "6      Male  3.430           yes\n",
      "7    Female  3.270            no\n",
      "8    Female  3.000            no\n",
      "9    Female  3.420           yes\n",
      "10   Female  3.640           yes\n",
      "11     Male  3.360            no\n",
      "12     Male  3.300            no\n",
      "13     Male  2.750            no\n",
      "14     Male  3.400            no\n",
      "15     Male  2.690            no\n",
      "16     Male  3.760            no\n",
      "17     Male  2.965            no\n",
      "18     Male  3.230            no\n",
      "19   Female  3.000            no\n",
      "20     Male  3.620            no\n",
      "21   Female  3.620           yes\n",
      "22     Male  2.880            no\n",
      "23     Male  3.380            no\n",
      "24     Male  3.250            no\n",
      "25   Female  3.690            no\n",
      "26     Male  2.750            no\n",
      "27     Male  2.987            no\n",
      "28     Male  2.500            no\n",
      "29   Female  3.530            no\n",
      "30     Male  3.100            no\n",
      "..      ...    ...           ...\n",
      "71     Male  3.150            no\n",
      "72     Male  3.430            no\n",
      "73     Male  3.500            no\n",
      "74     Male  3.210            no\n",
      "75     Male  3.640            no\n",
      "76   Female  3.500            no\n",
      "77     Male  3.400            no\n",
      "78     Male  3.416            no\n",
      "79     Male  3.680            no\n",
      "80     Male  3.150           yes\n",
      "81     Male  3.010            no\n",
      "82   Female  3.240            no\n",
      "83   Female  3.390           yes\n",
      "84   Female  3.570            no\n",
      "85     Male  3.000            no\n",
      "86     Male  2.470            no\n",
      "87     Male  3.300            no\n",
      "88     Male  2.970            no\n",
      "89     Male  3.440            no\n",
      "90   Female  3.400           yes\n",
      "91     Male  2.800           yes\n",
      "92     Male  3.150            no\n",
      "93     Male  2.340            no\n",
      "94     Male  3.180            no\n",
      "95   Female  3.246           yes\n",
      "96     Male  3.845            no\n",
      "97   Female  2.500            no\n",
      "99     Male  2.400            no\n",
      "100  Female  3.430            no\n",
      "102    Male  2.700            no\n",
      "\n",
      "[97 rows x 3 columns]\n"
     ]
    }
   ],
   "source": [
    "a= a[['Gender1','CGPA','Reading_Hobby']];\n",
    "print(a);"
   ]
  },
  {
   "cell_type": "code",
   "execution_count": 17,
   "metadata": {},
   "outputs": [
    {
     "data": {
      "text/html": [
       "<div>\n",
       "<style scoped>\n",
       "    .dataframe tbody tr th:only-of-type {\n",
       "        vertical-align: middle;\n",
       "    }\n",
       "\n",
       "    .dataframe tbody tr th {\n",
       "        vertical-align: top;\n",
       "    }\n",
       "\n",
       "    .dataframe thead th {\n",
       "        text-align: right;\n",
       "    }\n",
       "</style>\n",
       "<table border=\"1\" class=\"dataframe\">\n",
       "  <thead>\n",
       "    <tr style=\"text-align: right;\">\n",
       "      <th></th>\n",
       "      <th></th>\n",
       "      <th>CGPA</th>\n",
       "    </tr>\n",
       "    <tr>\n",
       "      <th>Reading_Hobby</th>\n",
       "      <th>Gender1</th>\n",
       "      <th></th>\n",
       "    </tr>\n",
       "  </thead>\n",
       "  <tbody>\n",
       "    <tr>\n",
       "      <th rowspan=\"2\" valign=\"top\">no</th>\n",
       "      <th>Female</th>\n",
       "      <td>3.281261</td>\n",
       "    </tr>\n",
       "    <tr>\n",
       "      <th>Male</th>\n",
       "      <td>3.190707</td>\n",
       "    </tr>\n",
       "    <tr>\n",
       "      <th rowspan=\"2\" valign=\"top\">yes</th>\n",
       "      <th>Female</th>\n",
       "      <td>3.466600</td>\n",
       "    </tr>\n",
       "    <tr>\n",
       "      <th>Male</th>\n",
       "      <td>3.160000</td>\n",
       "    </tr>\n",
       "  </tbody>\n",
       "</table>\n",
       "</div>"
      ],
      "text/plain": [
       "                           CGPA\n",
       "Reading_Hobby Gender1          \n",
       "no            Female   3.281261\n",
       "              Male     3.190707\n",
       "yes           Female   3.466600\n",
       "              Male     3.160000"
      ]
     },
     "execution_count": 17,
     "metadata": {},
     "output_type": "execute_result"
    }
   ],
   "source": [
    "a.groupby(['Reading_Hobby','Gender1']).mean()"
   ]
  },
  {
   "cell_type": "code",
   "execution_count": 18,
   "metadata": {},
   "outputs": [
    {
     "data": {
      "text/plain": [
       "CGPA    4\n",
       "dtype: int64"
      ]
     },
     "execution_count": 18,
     "metadata": {},
     "output_type": "execute_result"
    }
   ],
   "source": [
    "a.groupby(['Reading_Hobby','Gender1']).mean().count()"
   ]
  },
  {
   "cell_type": "code",
   "execution_count": 19,
   "metadata": {},
   "outputs": [
    {
     "data": {
      "text/plain": [
       "<bound method DataFrame.count of                            CGPA\n",
       "Reading_Hobby Gender1          \n",
       "no            Female   3.281261\n",
       "              Male     3.190707\n",
       "yes           Female   3.466600\n",
       "              Male     3.160000>"
      ]
     },
     "execution_count": 19,
     "metadata": {},
     "output_type": "execute_result"
    }
   ],
   "source": [
    "a.groupby(['Reading_Hobby','Gender1']).mean().count"
   ]
  },
  {
   "cell_type": "code",
   "execution_count": 20,
   "metadata": {},
   "outputs": [
    {
     "ename": "NameError",
     "evalue": "name 'count' is not defined",
     "output_type": "error",
     "traceback": [
      "\u001b[1;31m---------------------------------------------------------------------------\u001b[0m",
      "\u001b[1;31mNameError\u001b[0m                                 Traceback (most recent call last)",
      "\u001b[1;32m<ipython-input-20-45980171b6f3>\u001b[0m in \u001b[0;36m<module>\u001b[1;34m()\u001b[0m\n\u001b[1;32m----> 1\u001b[1;33m \u001b[0ma\u001b[0m\u001b[1;33m.\u001b[0m\u001b[0mgroupby\u001b[0m\u001b[1;33m(\u001b[0m\u001b[1;33m[\u001b[0m\u001b[1;34m'Reading_Hobby'\u001b[0m\u001b[1;33m,\u001b[0m\u001b[1;34m'Gender1'\u001b[0m\u001b[1;33m]\u001b[0m\u001b[1;33m)\u001b[0m\u001b[1;33m.\u001b[0m\u001b[0mmean\u001b[0m\u001b[1;33m(\u001b[0m\u001b[0mcount\u001b[0m\u001b[1;33m)\u001b[0m\u001b[1;33m\u001b[0m\u001b[0m\n\u001b[0m",
      "\u001b[1;31mNameError\u001b[0m: name 'count' is not defined"
     ]
    }
   ],
   "source": [
    "a.groupby(['Reading_Hobby','Gender1']).mean(count)"
   ]
  },
  {
   "cell_type": "code",
   "execution_count": 22,
   "metadata": {},
   "outputs": [
    {
     "data": {
      "text/html": [
       "<div>\n",
       "<style scoped>\n",
       "    .dataframe tbody tr th:only-of-type {\n",
       "        vertical-align: middle;\n",
       "    }\n",
       "\n",
       "    .dataframe tbody tr th {\n",
       "        vertical-align: top;\n",
       "    }\n",
       "\n",
       "    .dataframe thead th {\n",
       "        text-align: right;\n",
       "    }\n",
       "</style>\n",
       "<table border=\"1\" class=\"dataframe\">\n",
       "  <thead>\n",
       "    <tr style=\"text-align: right;\">\n",
       "      <th></th>\n",
       "      <th>Reading_Hobby</th>\n",
       "      <th>Gender1</th>\n",
       "      <th>counts</th>\n",
       "    </tr>\n",
       "  </thead>\n",
       "  <tbody>\n",
       "    <tr>\n",
       "      <th>0</th>\n",
       "      <td>no</td>\n",
       "      <td>Female</td>\n",
       "      <td>23</td>\n",
       "    </tr>\n",
       "    <tr>\n",
       "      <th>1</th>\n",
       "      <td>no</td>\n",
       "      <td>Male</td>\n",
       "      <td>58</td>\n",
       "    </tr>\n",
       "    <tr>\n",
       "      <th>2</th>\n",
       "      <td>yes</td>\n",
       "      <td>Female</td>\n",
       "      <td>10</td>\n",
       "    </tr>\n",
       "    <tr>\n",
       "      <th>3</th>\n",
       "      <td>yes</td>\n",
       "      <td>Male</td>\n",
       "      <td>6</td>\n",
       "    </tr>\n",
       "  </tbody>\n",
       "</table>\n",
       "</div>"
      ],
      "text/plain": [
       "  Reading_Hobby Gender1  counts\n",
       "0            no  Female      23\n",
       "1            no    Male      58\n",
       "2           yes  Female      10\n",
       "3           yes    Male       6"
      ]
     },
     "execution_count": 22,
     "metadata": {},
     "output_type": "execute_result"
    }
   ],
   "source": [
    "a.groupby(['Reading_Hobby','Gender1']).size().reset_index(name='counts')"
   ]
  },
  {
   "cell_type": "code",
   "execution_count": 23,
   "metadata": {},
   "outputs": [
    {
     "data": {
      "text/html": [
       "<div>\n",
       "<style scoped>\n",
       "    .dataframe tbody tr th:only-of-type {\n",
       "        vertical-align: middle;\n",
       "    }\n",
       "\n",
       "    .dataframe tbody tr th {\n",
       "        vertical-align: top;\n",
       "    }\n",
       "\n",
       "    .dataframe thead th {\n",
       "        text-align: right;\n",
       "    }\n",
       "</style>\n",
       "<table border=\"1\" class=\"dataframe\">\n",
       "  <thead>\n",
       "    <tr style=\"text-align: right;\">\n",
       "      <th></th>\n",
       "      <th></th>\n",
       "      <th>mean</th>\n",
       "      <th>count</th>\n",
       "    </tr>\n",
       "    <tr>\n",
       "      <th>Reading_Hobby</th>\n",
       "      <th>Gender1</th>\n",
       "      <th></th>\n",
       "      <th></th>\n",
       "    </tr>\n",
       "  </thead>\n",
       "  <tbody>\n",
       "    <tr>\n",
       "      <th rowspan=\"2\" valign=\"top\">no</th>\n",
       "      <th>Female</th>\n",
       "      <td>3.281261</td>\n",
       "      <td>23.0</td>\n",
       "    </tr>\n",
       "    <tr>\n",
       "      <th>Male</th>\n",
       "      <td>3.190707</td>\n",
       "      <td>58.0</td>\n",
       "    </tr>\n",
       "    <tr>\n",
       "      <th rowspan=\"2\" valign=\"top\">yes</th>\n",
       "      <th>Female</th>\n",
       "      <td>3.466600</td>\n",
       "      <td>10.0</td>\n",
       "    </tr>\n",
       "    <tr>\n",
       "      <th>Male</th>\n",
       "      <td>3.160000</td>\n",
       "      <td>6.0</td>\n",
       "    </tr>\n",
       "  </tbody>\n",
       "</table>\n",
       "</div>"
      ],
      "text/plain": [
       "                           mean  count\n",
       "Reading_Hobby Gender1                 \n",
       "no            Female   3.281261   23.0\n",
       "              Male     3.190707   58.0\n",
       "yes           Female   3.466600   10.0\n",
       "              Male     3.160000    6.0"
      ]
     },
     "execution_count": 23,
     "metadata": {},
     "output_type": "execute_result"
    }
   ],
   "source": [
    "a.groupby(['Reading_Hobby','Gender1'])['CGPA'].describe()[['mean', 'count']]"
   ]
  },
  {
   "cell_type": "code",
   "execution_count": 24,
   "metadata": {},
   "outputs": [
    {
     "name": "stdout",
     "output_type": "stream",
     "text": [
      "                           mean  count\n",
      "Reading_Hobby Gender1                 \n",
      "no            Female   3.281261   23.0\n",
      "              Male     3.190707   58.0\n",
      "yes           Female   3.466600   10.0\n",
      "              Male     3.160000    6.0\n"
     ]
    }
   ],
   "source": [
    "c=a.groupby(['Reading_Hobby','Gender1'])['CGPA'].describe()[['mean', 'count']]\n",
    "print(c)"
   ]
  },
  {
   "cell_type": "code",
   "execution_count": 25,
   "metadata": {},
   "outputs": [
    {
     "ename": "AttributeError",
     "evalue": "'DataFrame' object has no attribute 'DataFrame'",
     "output_type": "error",
     "traceback": [
      "\u001b[1;31m---------------------------------------------------------------------------\u001b[0m",
      "\u001b[1;31mAttributeError\u001b[0m                            Traceback (most recent call last)",
      "\u001b[1;32m<ipython-input-25-bc27e8d72b7e>\u001b[0m in \u001b[0;36m<module>\u001b[1;34m()\u001b[0m\n\u001b[1;32m----> 1\u001b[1;33m \u001b[0mdf2\u001b[0m \u001b[1;33m=\u001b[0m \u001b[0mc\u001b[0m\u001b[1;33m.\u001b[0m\u001b[0mDataFrame\u001b[0m\u001b[1;33m(\u001b[0m\u001b[0mnp\u001b[0m\u001b[1;33m.\u001b[0m\u001b[0mrandom\u001b[0m\u001b[1;33m.\u001b[0m\u001b[0mrand\u001b[0m\u001b[1;33m(\u001b[0m\u001b[1;36m10\u001b[0m\u001b[1;33m,\u001b[0m \u001b[1;36m4\u001b[0m\u001b[1;33m)\u001b[0m\u001b[1;33m,\u001b[0m \u001b[0mcolumns\u001b[0m\u001b[1;33m=\u001b[0m\u001b[1;33m[\u001b[0m\u001b[1;34m'Reading_Hobby'\u001b[0m\u001b[1;33m,\u001b[0m \u001b[1;34m'count'\u001b[0m\u001b[1;33m,\u001b[0m \u001b[1;34m'mean'\u001b[0m\u001b[1;33m]\u001b[0m\u001b[1;33m)\u001b[0m\u001b[1;33m\u001b[0m\u001b[0m\n\u001b[0m\u001b[0;32m      2\u001b[0m \u001b[1;33m\u001b[0m\u001b[0m\n\u001b[0;32m      3\u001b[0m \u001b[0mdf2\u001b[0m\u001b[1;33m.\u001b[0m\u001b[0mplot\u001b[0m\u001b[1;33m.\u001b[0m\u001b[0mbar\u001b[0m\u001b[1;33m(\u001b[0m\u001b[1;33m)\u001b[0m\u001b[1;33m;\u001b[0m\u001b[1;33m\u001b[0m\u001b[0m\n",
      "\u001b[1;32m~\\Anaconda3\\lib\\site-packages\\pandas\\core\\generic.py\u001b[0m in \u001b[0;36m__getattr__\u001b[1;34m(self, name)\u001b[0m\n\u001b[0;32m   4370\u001b[0m             \u001b[1;32mif\u001b[0m \u001b[0mself\u001b[0m\u001b[1;33m.\u001b[0m\u001b[0m_info_axis\u001b[0m\u001b[1;33m.\u001b[0m\u001b[0m_can_hold_identifiers_and_holds_name\u001b[0m\u001b[1;33m(\u001b[0m\u001b[0mname\u001b[0m\u001b[1;33m)\u001b[0m\u001b[1;33m:\u001b[0m\u001b[1;33m\u001b[0m\u001b[0m\n\u001b[0;32m   4371\u001b[0m                 \u001b[1;32mreturn\u001b[0m \u001b[0mself\u001b[0m\u001b[1;33m[\u001b[0m\u001b[0mname\u001b[0m\u001b[1;33m]\u001b[0m\u001b[1;33m\u001b[0m\u001b[0m\n\u001b[1;32m-> 4372\u001b[1;33m             \u001b[1;32mreturn\u001b[0m \u001b[0mobject\u001b[0m\u001b[1;33m.\u001b[0m\u001b[0m__getattribute__\u001b[0m\u001b[1;33m(\u001b[0m\u001b[0mself\u001b[0m\u001b[1;33m,\u001b[0m \u001b[0mname\u001b[0m\u001b[1;33m)\u001b[0m\u001b[1;33m\u001b[0m\u001b[0m\n\u001b[0m\u001b[0;32m   4373\u001b[0m \u001b[1;33m\u001b[0m\u001b[0m\n\u001b[0;32m   4374\u001b[0m     \u001b[1;32mdef\u001b[0m \u001b[0m__setattr__\u001b[0m\u001b[1;33m(\u001b[0m\u001b[0mself\u001b[0m\u001b[1;33m,\u001b[0m \u001b[0mname\u001b[0m\u001b[1;33m,\u001b[0m \u001b[0mvalue\u001b[0m\u001b[1;33m)\u001b[0m\u001b[1;33m:\u001b[0m\u001b[1;33m\u001b[0m\u001b[0m\n",
      "\u001b[1;31mAttributeError\u001b[0m: 'DataFrame' object has no attribute 'DataFrame'"
     ]
    }
   ],
   "source": [
    "df2 = c.DataFrame(np.random.rand(10, 4), columns=['Reading_Hobby', 'count', 'mean'])\n",
    "\n",
    "df2.plot.bar();"
   ]
  },
  {
   "cell_type": "code",
   "execution_count": 26,
   "metadata": {},
   "outputs": [
    {
     "ename": "AttributeError",
     "evalue": "'DataFrame' object has no attribute 'DataFrame'",
     "output_type": "error",
     "traceback": [
      "\u001b[1;31m---------------------------------------------------------------------------\u001b[0m",
      "\u001b[1;31mAttributeError\u001b[0m                            Traceback (most recent call last)",
      "\u001b[1;32m<ipython-input-26-51c53e349f2f>\u001b[0m in \u001b[0;36m<module>\u001b[1;34m()\u001b[0m\n\u001b[0;32m      1\u001b[0m \u001b[1;32mimport\u001b[0m \u001b[0mnumpy\u001b[0m \u001b[1;32mas\u001b[0m \u001b[0mnp\u001b[0m\u001b[1;33m\u001b[0m\u001b[0m\n\u001b[1;32m----> 2\u001b[1;33m \u001b[0mdf2\u001b[0m \u001b[1;33m=\u001b[0m \u001b[0mc\u001b[0m\u001b[1;33m.\u001b[0m\u001b[0mDataFrame\u001b[0m\u001b[1;33m(\u001b[0m\u001b[0mnp\u001b[0m\u001b[1;33m.\u001b[0m\u001b[0mrandom\u001b[0m\u001b[1;33m.\u001b[0m\u001b[0mrand\u001b[0m\u001b[1;33m(\u001b[0m\u001b[1;36m10\u001b[0m\u001b[1;33m,\u001b[0m \u001b[1;36m4\u001b[0m\u001b[1;33m)\u001b[0m\u001b[1;33m,\u001b[0m \u001b[0mcolumns\u001b[0m\u001b[1;33m=\u001b[0m\u001b[1;33m[\u001b[0m\u001b[1;34m'Reading_Hobby'\u001b[0m\u001b[1;33m,\u001b[0m \u001b[1;34m'count'\u001b[0m\u001b[1;33m,\u001b[0m \u001b[1;34m'mean'\u001b[0m\u001b[1;33m]\u001b[0m\u001b[1;33m)\u001b[0m\u001b[1;33m\u001b[0m\u001b[0m\n\u001b[0m\u001b[0;32m      3\u001b[0m \u001b[1;33m\u001b[0m\u001b[0m\n\u001b[0;32m      4\u001b[0m \u001b[0mdf2\u001b[0m\u001b[1;33m.\u001b[0m\u001b[0mplot\u001b[0m\u001b[1;33m.\u001b[0m\u001b[0mbar\u001b[0m\u001b[1;33m(\u001b[0m\u001b[1;33m)\u001b[0m\u001b[1;33m;\u001b[0m\u001b[1;33m\u001b[0m\u001b[0m\n",
      "\u001b[1;32m~\\Anaconda3\\lib\\site-packages\\pandas\\core\\generic.py\u001b[0m in \u001b[0;36m__getattr__\u001b[1;34m(self, name)\u001b[0m\n\u001b[0;32m   4370\u001b[0m             \u001b[1;32mif\u001b[0m \u001b[0mself\u001b[0m\u001b[1;33m.\u001b[0m\u001b[0m_info_axis\u001b[0m\u001b[1;33m.\u001b[0m\u001b[0m_can_hold_identifiers_and_holds_name\u001b[0m\u001b[1;33m(\u001b[0m\u001b[0mname\u001b[0m\u001b[1;33m)\u001b[0m\u001b[1;33m:\u001b[0m\u001b[1;33m\u001b[0m\u001b[0m\n\u001b[0;32m   4371\u001b[0m                 \u001b[1;32mreturn\u001b[0m \u001b[0mself\u001b[0m\u001b[1;33m[\u001b[0m\u001b[0mname\u001b[0m\u001b[1;33m]\u001b[0m\u001b[1;33m\u001b[0m\u001b[0m\n\u001b[1;32m-> 4372\u001b[1;33m             \u001b[1;32mreturn\u001b[0m \u001b[0mobject\u001b[0m\u001b[1;33m.\u001b[0m\u001b[0m__getattribute__\u001b[0m\u001b[1;33m(\u001b[0m\u001b[0mself\u001b[0m\u001b[1;33m,\u001b[0m \u001b[0mname\u001b[0m\u001b[1;33m)\u001b[0m\u001b[1;33m\u001b[0m\u001b[0m\n\u001b[0m\u001b[0;32m   4373\u001b[0m \u001b[1;33m\u001b[0m\u001b[0m\n\u001b[0;32m   4374\u001b[0m     \u001b[1;32mdef\u001b[0m \u001b[0m__setattr__\u001b[0m\u001b[1;33m(\u001b[0m\u001b[0mself\u001b[0m\u001b[1;33m,\u001b[0m \u001b[0mname\u001b[0m\u001b[1;33m,\u001b[0m \u001b[0mvalue\u001b[0m\u001b[1;33m)\u001b[0m\u001b[1;33m:\u001b[0m\u001b[1;33m\u001b[0m\u001b[0m\n",
      "\u001b[1;31mAttributeError\u001b[0m: 'DataFrame' object has no attribute 'DataFrame'"
     ]
    }
   ],
   "source": [
    "import numpy as np\n",
    "df2 = c.DataFrame(np.random.rand(10, 4), columns=['Reading_Hobby', 'count', 'mean'])\n",
    "\n",
    "df2.plot.bar();"
   ]
  },
  {
   "cell_type": "code",
   "execution_count": 33,
   "metadata": {},
   "outputs": [
    {
     "data": {
      "image/png": "[encoded data removed]",
      "text/plain": [
       "<Figure size 432x288 with 1 Axes>"
      ]
     },
     "metadata": {},
     "output_type": "display_data"
    }
   ],
   "source": [
    "import matplotlib.pyplot as plt\n",
    " \n",
    "# Data to plot\n",
    "labels = ['Reading_yes', 'Reading_no']\n",
    "sizes = [16, 81]\n",
    "labels_gender = ['Male','Female','Male','Female']\n",
    "sizes_gender = [6,10,58,23]\n",
    "colors = ['#ff6666', '#ffcc99']\n",
    "colors_gender = ['#c2c2f0','#ffb3e6', '#c2c2f0','#ffb3e6']\n",
    "\n",
    "explode = (0.2,0.2) \n",
    "explode_gender = (0.1,0.1,0.1,0.1)\n",
    "\n",
    "#Plot\n",
    "plt.pie(sizes, labels=labels, colors=colors, startangle=90,frame=True, explode=explode,radius=3)\n",
    "\n",
    "plt.pie(sizes_gender,labels=labels_gender, colors=colors_gender,startangle=90, explode=explode_gender,radius=2 )\n",
    "\n",
    "#Draw circle\n",
    "centre_circle = plt.Circle((0,0),1.5,color='black', fc='white',linewidth=0)\n",
    "fig = plt.gcf()\n",
    "fig.gca().add_artist(centre_circle)\n",
    " \n",
    "plt.axis('equal')\n",
    "plt.tight_layout()\n",
    "plt.show()"
   ]
  },
  {
   "cell_type": "code",
   "execution_count": 34,
   "metadata": {},
   "outputs": [
    {
     "name": "stdout",
     "output_type": "stream",
     "text": [
      "    Gender1 CGPA high or low Reading_Hobby\n",
      "1      Male             High            no\n",
      "2      Male             High            no\n",
      "3      Male              Low            no\n",
      "4    Female             High           yes\n",
      "5      Male             High            no\n",
      "6      Male             High           yes\n",
      "7    Female             High            no\n",
      "8    Female              Low            no\n",
      "9    Female             High           yes\n",
      "10   Female             High           yes\n",
      "11     Male             High            no\n",
      "12     Male             High            no\n",
      "13     Male              Low            no\n",
      "14     Male             High            no\n",
      "15     Male              Low            no\n",
      "16     Male             High            no\n",
      "17     Male              Low            no\n",
      "18     Male              Low            no\n",
      "19   Female              Low            no\n",
      "20     Male             High            no\n",
      "21   Female             High           yes\n",
      "22     Male              Low            no\n",
      "23     Male             High            no\n",
      "24     Male             High            no\n",
      "25   Female             High            no\n",
      "26     Male              Low            no\n",
      "27     Male              Low            no\n",
      "28     Male              Low            no\n",
      "29   Female             High            no\n",
      "30     Male              Low            no\n",
      "..      ...              ...           ...\n",
      "71     Male              Low            no\n",
      "72     Male             High            no\n",
      "73     Male             High            no\n",
      "74     Male              Low            no\n",
      "75     Male             High            no\n",
      "76   Female             High            no\n",
      "77     Male             High            no\n",
      "78     Male             High            no\n",
      "79     Male             High            no\n",
      "80     Male              Low           yes\n",
      "81     Male              Low            no\n",
      "82   Female             High            no\n",
      "83   Female             High           yes\n",
      "84   Female             High            no\n",
      "85     Male              Low            no\n",
      "86     Male              Low            no\n",
      "87     Male             High            no\n",
      "88     Male              Low            no\n",
      "89     Male             High            no\n",
      "90   Female             High           yes\n",
      "91     Male              Low           yes\n",
      "92     Male              Low            no\n",
      "93     Male              Low            no\n",
      "94     Male              Low            no\n",
      "95   Female             High           yes\n",
      "96     Male             High            no\n",
      "97   Female              Low            no\n",
      "99     Male              Low            no\n",
      "100  Female             High            no\n",
      "102    Male              Low            no\n",
      "\n",
      "[97 rows x 3 columns]\n"
     ]
    }
   ],
   "source": [
    "print(b)"
   ]
  },
  {
   "cell_type": "code",
   "execution_count": 36,
   "metadata": {},
   "outputs": [
    {
     "data": {
      "text/plain": [
       "Reading_Hobby  Gender1\n",
       "no             Female     23\n",
       "               Male       58\n",
       "yes            Female     10\n",
       "               Male        6\n",
       "Name: CGPA high or low, dtype: int64"
      ]
     },
     "execution_count": 36,
     "metadata": {},
     "output_type": "execute_result"
    }
   ],
   "source": [
    "b.groupby(['Reading_Hobby','Gender1'])['CGPA high or low'].count()"
   ]
  },
  {
   "cell_type": "code",
   "execution_count": 104,
   "metadata": {},
   "outputs": [
    {
     "data": {
      "text/html": [
       "<div>\n",
       "<style scoped>\n",
       "    .dataframe tbody tr th:only-of-type {\n",
       "        vertical-align: middle;\n",
       "    }\n",
       "\n",
       "    .dataframe tbody tr th {\n",
       "        vertical-align: top;\n",
       "    }\n",
       "\n",
       "    .dataframe thead th {\n",
       "        text-align: right;\n",
       "    }\n",
       "</style>\n",
       "<table border=\"1\" class=\"dataframe\">\n",
       "  <thead>\n",
       "    <tr style=\"text-align: right;\">\n",
       "      <th></th>\n",
       "      <th></th>\n",
       "      <th></th>\n",
       "      <th>CGPA high or low</th>\n",
       "    </tr>\n",
       "    <tr>\n",
       "      <th>Reading_Hobby</th>\n",
       "      <th>Gender1</th>\n",
       "      <th>CGPA high or low</th>\n",
       "      <th></th>\n",
       "    </tr>\n",
       "  </thead>\n",
       "  <tbody>\n",
       "    <tr>\n",
       "      <th rowspan=\"4\" valign=\"top\">no</th>\n",
       "      <th rowspan=\"2\" valign=\"top\">Female</th>\n",
       "      <th>High</th>\n",
       "      <td>14</td>\n",
       "    </tr>\n",
       "    <tr>\n",
       "      <th>Low</th>\n",
       "      <td>9</td>\n",
       "    </tr>\n",
       "    <tr>\n",
       "      <th rowspan=\"2\" valign=\"top\">Male</th>\n",
       "      <th>High</th>\n",
       "      <td>29</td>\n",
       "    </tr>\n",
       "    <tr>\n",
       "      <th>Low</th>\n",
       "      <td>29</td>\n",
       "    </tr>\n",
       "    <tr>\n",
       "      <th rowspan=\"3\" valign=\"top\">yes</th>\n",
       "      <th>Female</th>\n",
       "      <th>High</th>\n",
       "      <td>10</td>\n",
       "    </tr>\n",
       "    <tr>\n",
       "      <th rowspan=\"2\" valign=\"top\">Male</th>\n",
       "      <th>High</th>\n",
       "      <td>2</td>\n",
       "    </tr>\n",
       "    <tr>\n",
       "      <th>Low</th>\n",
       "      <td>4</td>\n",
       "    </tr>\n",
       "  </tbody>\n",
       "</table>\n",
       "</div>"
      ],
      "text/plain": [
       "                                        CGPA high or low\n",
       "Reading_Hobby Gender1 CGPA high or low                  \n",
       "no            Female  High                            14\n",
       "                      Low                              9\n",
       "              Male    High                            29\n",
       "                      Low                             29\n",
       "yes           Female  High                            10\n",
       "              Male    High                             2\n",
       "                      Low                              4"
      ]
     },
     "execution_count": 104,
     "metadata": {},
     "output_type": "execute_result"
    }
   ],
   "source": [
    "b.groupby(['Reading_Hobby','Gender1','CGPA high or low']).agg(\n",
    "    {\n",
    "        'CGPA high or low': \"count\",\n",
    "    }\n",
    ")"
   ]
  },
  {
   "cell_type": "code",
   "execution_count": 102,
   "metadata": {},
   "outputs": [
    {
     "data": {
      "image/png": "[encoded data removed]",
      "text/plain": [
       "<Figure size 432x288 with 1 Axes>"
      ]
     },
     "metadata": {},
     "output_type": "display_data"
    }
   ],
   "source": [
    "import matplotlib.pyplot as plt\n",
    " \n",
    "# Data to plot\n",
    "labels = ['Reading_yes', 'Reading_no']\n",
    "sizes = [16, 81]\n",
    "labels_gender = ['Male','Female','Male','Female']\n",
    "sizes_gender = [6,10,58,23]\n",
    "labels_cgpa = ['High','Low','High','Low','High','Low','High','Low']\n",
    "sizes_cgpa = [2,4,10,0,29,29,14,9]\n",
    "colors = ['#2E8B57','#008B8B']\n",
    "colors_gender = ['#DEB887','#F0E68C', '#DEB887','#F0E68C']\n",
    "colors_cgpa = ['#800000', '#D2691E', '#800000', '#D2691E','#800000', '#D2691E','#800000', '#D2691E']\n",
    "\n",
    "explode = (1,1) \n",
    "explode_gender = (1,1,1,1)\n",
    "explode_cgpa = (1,1,1,1,1,1,1,1)\n",
    "\n",
    "#Plot\n",
    "plt.pie(sizes, labels=labels, colors=colors, startangle=90,frame=True, explode=explode,radius=100)\n",
    "\n",
    "plt.pie(sizes_gender,labels=labels_gender, colors=colors_gender,startangle=90, explode=explode_gender,radius=70 )\n",
    "\n",
    "plt.pie(sizes_cgpa,labels=labels_cgpa, colors=colors_cgpa,startangle=90, explode=explode_cgpa,radius=50)\n",
    "\n",
    "#Draw circle\n",
    "centre_circle = plt.Circle((0,0),20,color='black', fc='white',linewidth=0)\n",
    "fig = plt.gcf()\n",
    "fig.gca().add_artist(centre_circle)\n",
    " \n",
    "plt.axis('equal')\n",
    "plt.tight_layout()\n",
    "plt.show()"
   ]
  },
  {
   "cell_type": "code",
   "execution_count": null,
   "metadata": {},
   "outputs": [],
   "source": []
  }
 ],
 "metadata": {
  "kernelspec": {
   "display_name": "Python 3",
   "language": "python",
   "name": "python3"
  },
  "language_info": {
   "codemirror_mode": {
    "name": "ipython",
    "version": 3
   },
   "file_extension": ".py",
   "mimetype": "text/x-python",
   "name": "python",
   "nbconvert_exporter": "python",
   "pygments_lexer": "ipython3",
   "version": "3.6.5"
  }
 },
 "nbformat": 4,
 "nbformat_minor": 2
}
